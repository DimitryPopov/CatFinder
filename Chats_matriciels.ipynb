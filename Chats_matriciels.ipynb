{
 "cells": [
  {
   "cell_type": "markdown",
   "id": "c39091f7",
   "metadata": {},
   "source": [
    "$A \\in \\mathcal{M}_{n,m}(\\mathbb{K})$"
   ]
  },
  {
   "cell_type": "code",
   "execution_count": 53,
   "id": "2c9aaa0c",
   "metadata": {},
   "outputs": [],
   "source": [
    "global A\n",
    "A = [ [0, 0, 1, 1, 0, 0, 1, 1, 0, 0], [0, 1, 0, 0, 1,1,0,0,1,0],[0,1,0,0,0,0,0,0,1,0],[0,1,1,1,1,1,1,1,1,0],\n",
    "    [0,1,0,1,0,0,1,0,1,0],[0,1,0,0,0,0,0,0,1,0],[0,0,1,1,1,1,1,1,0,0],[0,0,0,1,0,0,1,0,0,0],\n",
    "    [0,0,1,0,0,0,0,1,0,0],[0,1,0,0,0,0,0,0,1,0] ]\n",
    "\n",
    "def DisplayMat(A):\n",
    "    for i in range(len(A)):\n",
    "        print(A[i])  \n",
    "#DisplayMat(A)\n",
    "\n",
    "def creemat(n,m): #n liste de longueur m\n",
    "    l=[]\n",
    "    ml=[]\n",
    "    for i in range(n):\n",
    "        for j in range(m):\n",
    "            ml.append(0)\n",
    "        l.append(ml)\n",
    "        ml=[]\n",
    "    return l\n",
    "#creemat(4,3)\n",
    "\n",
    "def CopyMat(A):\n",
    "    lignecopy=[]\n",
    "    l=[]\n",
    "    for i in range(len(A)):\n",
    "        for j in A[i]:\n",
    "            lignecopy.append(j)\n",
    "        l.append(lignecopy)\n",
    "        lignecopy=[]\n",
    "    return l\n",
    "#CopyMat(A)"
   ]
  },
  {
   "cell_type": "markdown",
   "id": "bd085202",
   "metadata": {},
   "source": [
    "Fonctions pour passer d'image $ppm$ ou $pgm$ ($P2$) vers une $matrice$, et réciproque"
   ]
  },
  {
   "cell_type": "code",
   "execution_count": 54,
   "id": "875b662a",
   "metadata": {},
   "outputs": [],
   "source": [
    "def MatToIm(nom,valeurmax,matrice):\n",
    "    file = open(nom,\"w\")\n",
    "    file.write(\"P2\\n\")\n",
    "    n = len(matrice)\n",
    "    m = len(matrice[0])\n",
    "    file.write(\"%d %d\\n\" %(m,n)) # ecrire les dimensions\n",
    "    file.write(\"%d\\n\" %valeurmax)\n",
    "    for ligne in matrice:\n",
    "        for k in ligne:\n",
    "            file.write(str(k))\n",
    "            file.write(\" \")\n",
    "        file.write(\"\\n\")\n",
    "    file.close()\n",
    "MatToIm(\"PGM2Test.pgm\",7,A)\n",
    "\n",
    "def ImToMat(nom):\n",
    "    file = open(nom,\"r\")\n",
    "    file.readline() # sauter la première ligne\n",
    "    \n",
    "    ligne=file.readline() # lecture de la seconde ligne\n",
    "    ligne=ligne.split(\" \")\n",
    "    nbligne = ligne[0] # nombre de lignes de l’image\n",
    "    nbcol = ligne[1] # nombre de colonnes de l’image\n",
    "    valeurmax = int(file.readline()) # valeur maximale pour le niveaux de gris\n",
    "    \n",
    "    matl=[]\n",
    "    mat=[]\n",
    "    for ligne in file.readlines(): #Construction de la matrice \n",
    "        ligne=ligne.split(\" \")\n",
    "        for i in range(len(ligne)-1):\n",
    "            matl.append(int(ligne[i]))\n",
    "        mat.append(matl)\n",
    "        matl=[]\n",
    "\n",
    "    return(mat,valeurmax)\n",
    "#ImToMat(\"PGM2Test.pgm\")"
   ]
  },
  {
   "cell_type": "markdown",
   "id": "eb4ef206",
   "metadata": {},
   "source": [
    "Espace de $Test$"
   ]
  },
  {
   "cell_type": "code",
   "execution_count": 55,
   "id": "d19e5d9c",
   "metadata": {},
   "outputs": [
    {
     "data": {
      "image/png": "[encoded data removed]",
      "text/plain": [
       "<Figure size 640x480 with 1 Axes>"
      ]
     },
     "metadata": {},
     "output_type": "display_data"
    }
   ],
   "source": [
    "import matplotlib.pyplot as plt\n",
    "plt.imshow(ImToMat(\"PGM2Test.pgm\")[0],cmap=plt.get_cmap(\"gray\")) # A est la matrice des pixels\n",
    "plt.axis(\"off\")\n",
    "plt.show()"
   ]
  },
  {
   "cell_type": "markdown",
   "id": "01775c80",
   "metadata": {},
   "source": [
    "Fonctions additionnelles pour traiter des images grises"
   ]
  },
  {
   "cell_type": "code",
   "execution_count": 56,
   "id": "128735bb",
   "metadata": {},
   "outputs": [
    {
     "data": {
      "image/png": "[encoded data removed]",
      "text/plain": [
       "<Figure size 640x480 with 1 Axes>"
      ]
     },
     "metadata": {},
     "output_type": "display_data"
    },
    {
     "data": {
      "image/png": "[encoded data removed]",
      "text/plain": [
       "<Figure size 640x480 with 1 Axes>"
      ]
     },
     "metadata": {},
     "output_type": "display_data"
    },
    {
     "data": {
      "image/png": "[encoded data removed]",
      "text/plain": [
       "<Figure size 640x480 with 1 Axes>"
      ]
     },
     "metadata": {},
     "output_type": "display_data"
    }
   ],
   "source": [
    "def inverser_gris(matrice,valeurmax):\n",
    "    matl=[]\n",
    "    mat=[]\n",
    "    for i in range(len(matrice)):\n",
    "        for j in range(len(matrice[i])):\n",
    "            matl.append(valeurmax-matrice[i][j])\n",
    "        mat.append(matl)\n",
    "        matl=[]\n",
    "    return (mat)\n",
    "plt.imshow(inverser_gris(ImToMat(\"PGM2Test.pgm\")[0],ImToMat(\"PGM2Test.pgm\")[1]),cmap=plt.get_cmap(\"gray\"))\n",
    "plt.axis(\"off\")\n",
    "plt.show()\n",
    "\n",
    "def Luminance(matrice):\n",
    "    compteurP=0\n",
    "    compteurV=0\n",
    "    for i in range(len(matrice)):\n",
    "        for j in range(len(matrice[i])):\n",
    "            compteurP+=1\n",
    "            compteurV=compteurV+matrice[i][j]\n",
    "    return (compteurV/compteurP)\n",
    "#print(Luminance(ImToMat(\"PGM2Test.pgm\")[0]))\n",
    "\n",
    "def estpair(mat):\n",
    "    pair=False\n",
    "    if len(mat)%2==0:\n",
    "        pair=True\n",
    "    return pair\n",
    "\n",
    "def symetrie_verticale_gris(matrice):\n",
    "    if estpair(matrice[0]):\n",
    "        for z in range(len(matrice)):\n",
    "            for i in range(0,len(matrice[0])//2,1):\n",
    "                matrice[z][i],matrice[z][-(i+1)]=matrice[z][-(i+1)],matrice[z][i]\n",
    "        return matrice\n",
    "    else :\n",
    "        for z in range(len(matrice)):\n",
    "            for i in range(len(matrice)):\n",
    "                matrice[z][i],matrice[z][-(i+1)]=matrice[z][-(i+1)],matrice[z][i]\n",
    "        return matrice\n",
    "        \n",
    "        \n",
    "plt.imshow((ImToMat(\"PGM2Test.pgm\")[0]),cmap=plt.get_cmap(\"gray\"))\n",
    "plt.axis(\"off\")\n",
    "plt.show()\n",
    "\n",
    "plt.imshow(symetrie_verticale_gris(ImToMat(\"PGM2Test.pgm\")[0]),cmap=plt.get_cmap(\"gray\"))\n",
    "plt.axis(\"off\")\n",
    "plt.show()"
   ]
  },
  {
   "cell_type": "markdown",
   "id": "ce74386b",
   "metadata": {},
   "source": [
    "Maintenant on applique nos fonctions précédentes directement sur des $PNG$ ou $JPEG$. $\\\\$\n",
    "On commence par une fonction $convertir(A)$ pour une conversion de la forme $x \\rightarrow \\frac{x}{N}$ pour avoir des valeurs d'intensité de pixel dans $[0,1]$ en vue d'un calcul de gradien"
   ]
  },
  {
   "cell_type": "code",
   "execution_count": 57,
   "id": "8f6fa45a",
   "metadata": {},
   "outputs": [
    {
     "data": {
      "image/png": "[encoded data removed]",
      "text/plain": [
       "<Figure size 640x480 with 1 Axes>"
      ]
     },
     "metadata": {},
     "output_type": "display_data"
    }
   ],
   "source": [
    "def convertir(A):\n",
    "    maxi=0\n",
    "    for i in range(len(A)):\n",
    "        for j in range(len(A[i])):\n",
    "            if A[i][j]>maxi:\n",
    "                maxi=A[i][j]\n",
    "    N=maxi\n",
    "    for i in range(len(A)):\n",
    "        for j in range(len(A[i])):\n",
    "            A[i][j]=A[i][j]/N\n",
    "    return(A)\n",
    "\n",
    "B=convertir(ImToMat(\"PGM2Test.pgm\")[0])\n",
    "plt.imshow(B,cmap=\"gray\")\n",
    "plt.axis(\"off\")\n",
    "plt.show()"
   ]
  },
  {
   "cell_type": "markdown",
   "id": "61ead8cd",
   "metadata": {},
   "source": [
    "# Gradien\n",
    "$G_x(i,j)=(i+1,j)-(i-1,j) \\\\\n",
    "G_y(i,j)=(i,j+1)-(i,j-1) \\\\$ Puis on garde $\\sqrt{G_x^2(i,j)+G_y^2(i,j)} \\\\$\n",
    "Optimisation : $G_x(i,j)=\\frac{G_x(i,j)+G_x(i-1,j)+G_x(i+1,j)}{3}$ de même pour $G_y$"
   ]
  },
  {
   "cell_type": "code",
   "execution_count": 58,
   "id": "492dee53",
   "metadata": {},
   "outputs": [
    {
     "name": "stdout",
     "output_type": "stream",
     "text": [
      "Traitement de ChatGPT2.png...\n",
      "Traitement de ChatGPT3.png...\n",
      "Traitement de ChatGPT1.png...\n",
      "Process terminé\n"
     ]
    }
   ],
   "source": [
    "import os\n",
    "import glob\n",
    "from PIL import Image\n",
    "import numpy as np\n",
    "import matplotlib.pyplot as plt\n",
    "#path=\"/Users/popov/Desktop/CatFinder/Capture d’écran 2025-08-18 à 16.04.55.png\"\n",
    "\n",
    "#img = Image.open(path).convert(\"L\")   # \"L\" = grayscale\n",
    "\n",
    "def transmo(A):\n",
    "    arr = np.array(A, dtype=np.float32)       # matrice de float\n",
    "    mat=[]\n",
    "    for i in arr:\n",
    "        matl=[]\n",
    "        for j in i:\n",
    "            matl.append(j)\n",
    "        mat.append(matl)\n",
    "    return mat\n",
    "\n",
    "#B=convertir(transmo(img))\n",
    "\n",
    "#plt.imshow(B , cmap=\"gray\")\n",
    "#plt.axis(\"off\")\n",
    "#plt.show()\n",
    "\n",
    "def gradienOptimise(A):\n",
    "    mat=[]\n",
    "    maxgrad=0\n",
    "    \n",
    "    for i in range(2,len(A)-2):\n",
    "        \n",
    "        matl=[]\n",
    "        \n",
    "        for j in range(2,len(A[i])-2):\n",
    "            \n",
    "            Gx=((A[i+1][j]-A[i-1][j])+(-A[i-2][j])+(A[i+2][j]))/3\n",
    "            Gy=((A[i][j+1]-A[i][j-1])+(-A[i][j-2])+(A[i][j+2]))/3\n",
    "            grad=(Gx**2+Gy**2)**0.5\n",
    "            matl.append(grad)\n",
    "            \n",
    "            \n",
    "            if grad>maxgrad:\n",
    "                maxgrad=grad\n",
    "                \n",
    "        mat.append(matl)\n",
    "        \n",
    "    return (mat,maxgrad)\n",
    "\n",
    "#B=convertir(gradienOptimise(transmo(img))[0])\n",
    "#plt.imshow(B, cmap=\"gray\")\n",
    "#plt.axis(\"off\")\n",
    "#plt.show()\n",
    "\n",
    "def FiltreGrad(A):\n",
    "    maxgrad=gradienOptimise(A)[1]\n",
    "    mat=[]\n",
    "    for i in range(0,len(A)):\n",
    "        matl=[]\n",
    "        for j in range(0,len(A[i])):\n",
    "            if A[i][j]>maxgrad/3:\n",
    "                matl.append(1)\n",
    "            else : \n",
    "                matl.append(0)\n",
    "                \n",
    "        mat.append(matl)\n",
    "    return mat\n",
    "\n",
    "\n",
    "#B=convertir(FiltreGrad(gradienOptimise(transmo(img))[0]))\n",
    "#plt.imshow(B, cmap=\"gray\")\n",
    "#plt.axis(\"off\")\n",
    "#plt.show()\n",
    "\n",
    "# --- Directories ---\n",
    "input_dir = \"/Users/popov/Desktop/CatFinder/Cat Data\"\n",
    "output_dir = \"/Users/popov/Desktop/CatFinder/Cat Data Processed\"\n",
    "\n",
    "os.makedirs(output_dir, exist_ok=True)  # crée le dossier de sortie si besoin\n",
    "\n",
    "# --- Traitement batch ---\n",
    "for img_path in glob.glob(os.path.join(input_dir, \"*.png\")): \n",
    "    filename = os.path.basename(img_path)\n",
    "    print(f\"Traitement de {filename}...\")\n",
    "    \n",
    "    img = Image.open(img_path).convert(\"L\")\n",
    "    mat = transmo(img)\n",
    "    \n",
    "    # Calcul du gradient\n",
    "    grad_mat = FiltreGrad(gradienOptimise(transmo(img))[0])\n",
    "    B = convertir(grad_mat)\n",
    "    \n",
    "    # Sauvegarde\n",
    "    output_path = os.path.join(output_dir, filename)\n",
    "    plt.imsave(output_path, B, cmap=\"gray\")  # plt.imsave plus simple que plt.savefig\n",
    "print(\"Process terminé\")"
   ]
  }
 ],
 "metadata": {
  "kernelspec": {
   "display_name": "Python 3",
   "language": "python",
   "name": "python3"
  },
  "language_info": {
   "codemirror_mode": {
    "name": "ipython",
    "version": 3
   },
   "file_extension": ".py",
   "mimetype": "text/x-python",
   "name": "python",
   "nbconvert_exporter": "python",
   "pygments_lexer": "ipython3",
   "version": "3.9.6"
  }
 },
 "nbformat": 4,
 "nbformat_minor": 5
}
