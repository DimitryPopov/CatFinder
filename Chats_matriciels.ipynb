{
 "cells": [
  {
   "cell_type": "code",
   "execution_count": 305,
   "id": "2c9aaa0c",
   "metadata": {},
   "outputs": [],
   "source": [
    "global A\n",
    "A = [ [0, 0, 1, 1, 0, 0, 1, 1, 0, 0], [0, 1, 0, 0, 1,1,0,0,1,0],[0,1,0,0,0,0,0,0,1,0],[0,1,1,1,1,1,1,1,1,0],\n",
    "    [0,1,0,1,0,0,1,0,1,0],[0,1,0,0,0,0,0,0,1,0],[0,0,1,1,1,1,1,1,0,0],[0,0,0,1,0,0,1,0,0,0],\n",
    "    [0,0,1,0,0,0,0,1,0,0],[0,1,0,0,0,0,0,0,1,0] ]\n",
    "\n",
    "def DisplayMat(A):\n",
    "    for i in range(len(A)):\n",
    "        print(A[i])  \n",
    "#DisplayMat(A)\n",
    "\n",
    "def creemat(n,m): #n liste de longueur m\n",
    "    l=[]\n",
    "    ml=[]\n",
    "    for i in range(n):\n",
    "        for j in range(m):\n",
    "            ml.append(0)\n",
    "        l.append(ml)\n",
    "        ml=[]\n",
    "    return l\n",
    "#creemat(4,3)\n",
    "\n",
    "def CopyMat(A):\n",
    "    lignecopy=[]\n",
    "    l=[]\n",
    "    for i in range(len(A)):\n",
    "        for j in A[i]:\n",
    "            lignecopy.append(j)\n",
    "        l.append(lignecopy)\n",
    "        lignecopy=[]\n",
    "    return l\n",
    "#CopyMat(A)"
   ]
  },
  {
   "cell_type": "markdown",
   "id": "bd085202",
   "metadata": {},
   "source": [
    "Fonctions pour passer d'image $ppm$ ou $pgm$ ($P2$) vers une $matrice$, et réciproque"
   ]
  },
  {
   "cell_type": "code",
   "execution_count": 306,
   "id": "875b662a",
   "metadata": {},
   "outputs": [],
   "source": [
    "def MatToIm(nom,valeurmax,matrice):\n",
    "    file = open(nom,\"w\")\n",
    "    file.write(\"P2\\n\")\n",
    "    n = len(matrice)\n",
    "    m = len(matrice[0])\n",
    "    file.write(\"%d %d\\n\" %(m,n)) # ecrire les dimensions\n",
    "    file.write(\"%d\\n\" %valeurmax)\n",
    "    for ligne in matrice:\n",
    "        for k in ligne:\n",
    "            file.write(str(k))\n",
    "            file.write(\" \")\n",
    "        file.write(\"\\n\")\n",
    "    file.close()\n",
    "MatToIm(\"PGM2Test.pgm\",7,A)\n",
    "\n",
    "def ImToMat(nom):\n",
    "    file = open(nom,\"r\")\n",
    "    file.readline() # sauter la première ligne\n",
    "    \n",
    "    ligne=file.readline() # lecture de la seconde ligne\n",
    "    ligne=ligne.split(\" \")\n",
    "    nbligne = ligne[0] # nombre de lignes de l’image\n",
    "    nbcol = ligne[1] # nombre de colonnes de l’image\n",
    "    valeurmax = int(file.readline()) # valeur maximale pour le niveaux de gris\n",
    "    \n",
    "    matl=[]\n",
    "    mat=[]\n",
    "    for ligne in file.readlines(): #Construction de la matrice \n",
    "        ligne=ligne.split(\" \")\n",
    "        for i in range(len(ligne)-1):\n",
    "            matl.append(int(ligne[i]))\n",
    "        mat.append(matl)\n",
    "        matl=[]\n",
    "\n",
    "    return(mat,valeurmax)\n",
    "#ImToMat(\"PGM2Test.pgm\")"
   ]
  },
  {
   "cell_type": "code",
   "execution_count": 307,
   "id": "d19e5d9c",
   "metadata": {},
   "outputs": [
    {
     "data": {
      "image/png": "[encoded data removed]",
      "text/plain": [
       "<Figure size 640x480 with 1 Axes>"
      ]
     },
     "metadata": {},
     "output_type": "display_data"
    }
   ],
   "source": [
    "import matplotlib.pyplot as plt\n",
    "plt.imshow(ImToMat(\"/Users/popov/Desktop/CatFinder/PGM2Test.pgm\")[0],cmap=plt.get_cmap(\"gray\")) # A est la matrice des pixels\n",
    "plt.axis(\"off\")\n",
    "plt.show()"
   ]
  },
  {
   "cell_type": "markdown",
   "id": "01775c80",
   "metadata": {},
   "source": [
    "Fonctions additionnelles pour traiter des images grises"
   ]
  },
  {
   "cell_type": "code",
   "execution_count": 308,
   "id": "128735bb",
   "metadata": {},
   "outputs": [
    {
     "data": {
      "image/png": "[encoded data removed]",
      "text/plain": [
       "<Figure size 640x480 with 1 Axes>"
      ]
     },
     "metadata": {},
     "output_type": "display_data"
    },
    {
     "data": {
      "image/png": "[encoded data removed]",
      "text/plain": [
       "<Figure size 640x480 with 1 Axes>"
      ]
     },
     "metadata": {},
     "output_type": "display_data"
    },
    {
     "data": {
      "image/png": "[encoded data removed]",
      "text/plain": [
       "<Figure size 640x480 with 1 Axes>"
      ]
     },
     "metadata": {},
     "output_type": "display_data"
    }
   ],
   "source": [
    "def inverser_gris(matrice,valeurmax):\n",
    "    matl=[]\n",
    "    mat=[]\n",
    "    for i in range(len(matrice)):\n",
    "        for j in range(len(matrice[i])):\n",
    "            matl.append(valeurmax-matrice[i][j])\n",
    "        mat.append(matl)\n",
    "        matl=[]\n",
    "    return (mat)\n",
    "plt.imshow(inverser_gris(ImToMat(\"PGM2Test.pgm\")[0],ImToMat(\"PGM2Test.pgm\")[1]),cmap=plt.get_cmap(\"gray\"))\n",
    "plt.axis(\"off\")\n",
    "plt.show()\n",
    "\n",
    "def Luminance(matrice):\n",
    "    compteurP=0\n",
    "    compteurV=0\n",
    "    for i in range(len(matrice)):\n",
    "        for j in range(len(matrice[i])):\n",
    "            compteurP+=1\n",
    "            compteurV=compteurV+matrice[i][j]\n",
    "    return (compteurV/compteurP)\n",
    "#print(Luminance(ImToMat(\"PGM2Test.pgm\")[0]))\n",
    "\n",
    "def estpair(mat):\n",
    "    pair=False\n",
    "    if len(mat)%2==0:\n",
    "        pair=True\n",
    "    return pair\n",
    "\n",
    "def symetrie_verticale_gris(matrice):\n",
    "    if estpair(matrice[0]):\n",
    "        for z in range(len(matrice)):\n",
    "            for i in range(0,len(matrice[0])//2,1):\n",
    "                matrice[z][i],matrice[z][-(i+1)]=matrice[z][-(i+1)],matrice[z][i]\n",
    "        return matrice\n",
    "    else :\n",
    "        for z in range(len(matrice)):\n",
    "            for i in range(len(matrice)):\n",
    "                matrice[z][i],matrice[z][-(i+1)]=matrice[z][-(i+1)],matrice[z][i]\n",
    "        return matrice\n",
    "        \n",
    "        \n",
    "plt.imshow((ImToMat(\"PGM2Test.pgm\")[0]),cmap=plt.get_cmap(\"gray\"))\n",
    "plt.axis(\"off\")\n",
    "plt.show()\n",
    "\n",
    "plt.imshow(symetrie_verticale_gris(ImToMat(\"PGM2Test.pgm\")[0]),cmap=plt.get_cmap(\"gray\"))\n",
    "plt.axis(\"off\")\n",
    "plt.show()"
   ]
  },
  {
   "cell_type": "markdown",
   "id": "ce74386b",
   "metadata": {},
   "source": [
    "Maintenant on applique nos fonctions précédentes directement sur des $PNG$ ou $JPEG$. $\\\\$\n",
    "On commence par une fonction $convertir(A)$ pour une conversion de la forme $x \\rightarrow \\frac{x}{N}$ pour avoir des valeurs d'intensité de pixel dans $[0,1]$ en vue d'un calcul de gradien"
   ]
  },
  {
   "cell_type": "code",
   "execution_count": 309,
   "id": "8f6fa45a",
   "metadata": {},
   "outputs": [
    {
     "data": {
      "image/png": "[encoded data removed]",
      "text/plain": [
       "<Figure size 640x480 with 1 Axes>"
      ]
     },
     "metadata": {},
     "output_type": "display_data"
    }
   ],
   "source": [
    "def convertir(A):\n",
    "    maxi=0\n",
    "    for i in range(len(A)):\n",
    "        for j in range(len(A[i])):\n",
    "            if A[i][j]>maxi:\n",
    "                maxi=A[i][j]\n",
    "    N=maxi\n",
    "    for i in range(len(A)):\n",
    "        for j in range(len(A[i])):\n",
    "            A[i][j]=A[i][j]/N\n",
    "    return(A)\n",
    "\n",
    "B=convertir(ImToMat(\"PGM2Test.pgm\")[0])\n",
    "plt.imshow(B,cmap=\"gray\")\n",
    "plt.axis(\"off\")\n",
    "plt.show()"
   ]
  },
  {
   "cell_type": "markdown",
   "id": "61ead8cd",
   "metadata": {},
   "source": [
    "# Gradien\n",
    "$G_x(i,j)=(i+1,j)-(i-1,j) \\\\\n",
    "G_y(i,j)=(i,j+1)-(i,j-1) \\\\$ Puis on garde $\\sqrt{G_x^2(i,j)+G_y^2(i,j)} \\\\$\n",
    "Optimisation : $G_x(i,j)=\\frac{G_x(i,j)+G_x(i-1,j)+G_x(i+1,j)}{3}$ de même pour $G_y$"
   ]
  },
  {
   "cell_type": "code",
   "execution_count": 310,
   "id": "492dee53",
   "metadata": {},
   "outputs": [
    {
     "name": "stdout",
     "output_type": "stream",
     "text": [
      "Traitement de ChatGPT2.png...\n",
      "Traitement de ChatGPT3.png...\n",
      "Traitement de ChatGPT1.png...\n",
      "Process terminé\n"
     ]
    }
   ],
   "source": [
    "import os\n",
    "import glob\n",
    "from PIL import Image\n",
    "import numpy as np\n",
    "import matplotlib.pyplot as plt\n",
    "#path=\"/Users/popov/Desktop/CatFinder/Capture d’écran 2025-08-18 à 16.04.55.png\"\n",
    "\n",
    "#img = Image.open(path).convert(\"L\")   # \"L\" = grayscale\n",
    "\n",
    "def transmo(A):\n",
    "    arr = np.array(A, dtype=np.float32)       # matrice de float\n",
    "    mat=[]\n",
    "    for i in arr:\n",
    "        matl=[]\n",
    "        for j in i:\n",
    "            matl.append(j)\n",
    "        mat.append(matl)\n",
    "    return mat\n",
    "\n",
    "#B=convertir(transmo(img))\n",
    "\n",
    "#plt.imshow(B , cmap=\"gray\")\n",
    "#plt.axis(\"off\")\n",
    "#plt.show()\n",
    "\n",
    "def gradienOptimise(A):\n",
    "    mat=[]\n",
    "    maxgrad=0\n",
    "    \n",
    "    for i in range(2,len(A)-2):\n",
    "        \n",
    "        matl=[]\n",
    "        \n",
    "        for j in range(2,len(A[i])-2):\n",
    "            \n",
    "            Gx=((A[i+1][j]-A[i-1][j])+(-A[i-2][j])+(A[i+2][j]))/3\n",
    "            Gy=((A[i][j+1]-A[i][j-1])+(-A[i][j-2])+(A[i][j+2]))/3\n",
    "            grad=(Gx**2+Gy**2)**0.5\n",
    "            matl.append(grad)\n",
    "            \n",
    "            \n",
    "            if grad>maxgrad:\n",
    "                maxgrad=grad\n",
    "                \n",
    "        mat.append(matl)\n",
    "        \n",
    "    return (mat,maxgrad)\n",
    "\n",
    "#B=convertir(gradienOptimise(transmo(img))[0])\n",
    "#plt.imshow(B, cmap=\"gray\")\n",
    "#plt.axis(\"off\")\n",
    "#plt.show()\n",
    "\n",
    "def FiltreGrad(A):\n",
    "    maxgrad=gradienOptimise(A)[1]\n",
    "    mat=[]\n",
    "    for i in range(0,len(A)):\n",
    "        matl=[]\n",
    "        for j in range(0,len(A[i])):\n",
    "            if A[i][j]>maxgrad/3:\n",
    "                matl.append(1)\n",
    "            else : \n",
    "                matl.append(0)\n",
    "                \n",
    "        mat.append(matl)\n",
    "    return mat\n",
    "\n",
    "\n",
    "#B=convertir(FiltreGrad(gradienOptimise(transmo(img))[0]))\n",
    "#plt.imshow(B, cmap=\"gray\")\n",
    "#plt.axis(\"off\")\n",
    "#plt.show()\n",
    "\n",
    "# --- Directories ---\n",
    "input_dir = \"/Users/popov/Desktop/CatFinder/Cat Data\"\n",
    "output_dir = \"/Users/popov/Desktop/CatFinder/Cat Data Processed\"\n",
    "\n",
    "os.makedirs(output_dir, exist_ok=True)  # crée le dossier de sortie si besoin\n",
    "\n",
    "# --- Traitement batch ---\n",
    "for img_path in glob.glob(os.path.join(input_dir, \"*.png\")): \n",
    "    filename = os.path.basename(img_path)\n",
    "    print(f\"Traitement de {filename}...\")\n",
    "    \n",
    "    img = Image.open(img_path).convert(\"L\")\n",
    "    mat = transmo(img)\n",
    "    \n",
    "    # Calcul du gradient\n",
    "    grad_mat = FiltreGrad(gradienOptimise(transmo(img))[0])\n",
    "    B = convertir(grad_mat)\n",
    "    \n",
    "    # Sauvegarde\n",
    "    output_path = os.path.join(output_dir, filename)\n",
    "    plt.imsave(output_path, B, cmap=\"gray\") \n",
    "print(\"Process terminé\")"
   ]
  },
  {
   "cell_type": "markdown",
   "id": "221d9cf2",
   "metadata": {},
   "source": [
    "Partie $Deep \\_ Learning$ avec $1$ $neurone$"
   ]
  },
  {
   "cell_type": "code",
   "execution_count": 311,
   "id": "99d31309",
   "metadata": {},
   "outputs": [],
   "source": [
    "from utilities import *\n",
    "X_train, y_train, X_test, y_test = load_data()"
   ]
  },
  {
   "cell_type": "code",
   "execution_count": 326,
   "id": "25fc5a65",
   "metadata": {},
   "outputs": [],
   "source": [
    "X_train=X_train.reshape(X_train.shape[0],-1) / X_train.max()\n",
    "X_test=X_test.reshape(X_test.shape[0],-1) / X_test.max()\n",
    "def initialisation(X):\n",
    "    W = np.random.randn(X.shape[1], 1) #matrice colonne\n",
    "    b = np.random.randn(1)\n",
    "    return W,b\n",
    "\n",
    "def modele(X,W,b):\n",
    "    Z = X @ W + b\n",
    "    A = 1 / ( 1 + np.exp(-Z) )\n",
    "    return A\n",
    "\n",
    "def logloss(A,y):\n",
    "    eps=1e-15\n",
    "    return - 1/len(y) * np.sum(y*np.log(A+eps)+(1-y)*np.log(1-A+eps))\n",
    "\n",
    "def gradient(A,X,y):\n",
    "    dW=1/len(y) * X.T @ (A-y)\n",
    "    db=1/len(y) * np.sum(A-y)\n",
    "    return dW,db\n",
    "\n",
    "def update(W,dW,b,db,alpha): #alpha : taux d'apprentissage\n",
    "    W=W-alpha*dW\n",
    "    b=b-alpha*db\n",
    "    return W,b\n",
    "\n",
    "def predict(X, W, b):\n",
    "    A = modele(X, W, b)\n",
    "    return A >= 0.5\n",
    "\n",
    "from tqdm import tqdm\n",
    "from sklearn.metrics import accuracy_score\n",
    "def Neurone(X_train,y_train,X_test,y_test,alpha=0.01,n_iter = 1000):\n",
    "    \n",
    "    W,b=initialisation(X_train)\n",
    "    erreur_train=[]\n",
    "    score_train=[] #sklearn.metrics\n",
    "    \n",
    "    erreur_test=[]\n",
    "    score_test=[]\n",
    "    \n",
    "    for i in tqdm(range(n_iter)):\n",
    "        \n",
    "        #train\n",
    "        A = modele(X_train, W, b)\n",
    "        dW, db = gradient(A, X_train, y_train)\n",
    "        W, b = update(W,dW,b,db,alpha)\n",
    "\n",
    "        erreur_train.append(logloss(A,y_train)) #visualiser l'apprentissage \n",
    "        score_train.append(accuracy_score(y_train,predict(X_train,W,b)))\n",
    "        \n",
    "        #test\n",
    "        A_test = modele(X_test, W, b)\n",
    "        erreur_test.append(logloss(A_test,y_test)) #visualiser l'apprentissage \n",
    "        score_test.append(accuracy_score(y_test,predict(X_test,W,b)))\n",
    "    \n",
    "    \n",
    "    plt.plot(erreur_test,label=\"erreur_test\")\n",
    "    plt.plot(erreur_train,label=\"erreur_train\")\n",
    "    plt.legend()\n",
    "    plt.show()\n",
    "    plt.plot(score_test,label=\"score_test\")\n",
    "    plt.plot(score_train,label=\"score_train\")\n",
    "    plt.legend()\n",
    "    plt.show()\n",
    "    return (W, b)"
   ]
  },
  {
   "cell_type": "markdown",
   "id": "19d0c38f",
   "metadata": {},
   "source": [
    "Stocker les poids et le biai"
   ]
  },
  {
   "cell_type": "code",
   "execution_count": 327,
   "id": "124010f9",
   "metadata": {},
   "outputs": [
    {
     "name": "stderr",
     "output_type": "stream",
     "text": [
      "100%|██████████| 2000/2000 [00:15<00:00, 128.22it/s]\n"
     ]
    },
    {
     "data": {
      "image/png": "[encoded data removed]",
      "text/plain": [
       "<Figure size 640x480 with 1 Axes>"
      ]
     },
     "metadata": {},
     "output_type": "display_data"
    },
    {
     "data": {
      "image/png": "[encoded data removed]",
      "text/plain": [
       "<Figure size 640x480 with 1 Axes>"
      ]
     },
     "metadata": {},
     "output_type": "display_data"
    }
   ],
   "source": [
    "W, b = Neurone(X_train,y_train,X_test,y_test,alpha=0.01,n_iter = 2000)"
   ]
  },
  {
   "cell_type": "markdown",
   "id": "c668e76a",
   "metadata": {},
   "source": [
    "Réseau de neuronne avec 2 couches avec $n1$ neurones dans la couche 1 et $n2$ neurones dans la couche 2"
   ]
  },
  {
   "cell_type": "code",
   "execution_count": 330,
   "id": "5414430a",
   "metadata": {},
   "outputs": [],
   "source": [
    "from utilities import *\n",
    "X_train, y_train, X_test, y_test = load_data()\n",
    "X_train=X_train.reshape(X_train.shape[0],-1) / 255\n",
    "X_test=X_test.reshape(X_test.shape[0],-1) / 255\n",
    "\n",
    "def initialisation(n0,n1,n2):\n",
    "    W1=np.random.randn(n1, n0) #matrice colonne\n",
    "    b1=np.random.randn(n1, 1)\n",
    "    W2=np.random.randn(n2, n1)\n",
    "    b2=np.random.randn(n2, 1)\n",
    "    return W1,b1,W2,b2\n",
    "\n",
    "def froward_propagation(X,W1,b1,W2,b2):\n",
    "    Z1 = W1 @ X + b1\n",
    "    A1 = 1 / ( 1 + np.exp(-Z1) )\n",
    "    Z2 = W2 @ A1 +b2\n",
    "    A2 = 1 / ( 1 + np.exp(-Z2) )\n",
    "    return Z1,A1,Z2,A2\n",
    "\n",
    "def back_propagation(A1,A2,W1,W2,X,y):\n",
    "    dZ2=A2-y\n",
    "    dW2=(1/len(y))*dZ2 @ A1.T\n",
    "    db2=(1/len(y))*np.sum(dZ2,axis=1,keepdims=True) #Pour eviter que db2 soit de dim (n) au lieu de (n,1)\n",
    "    \n",
    "    dZ1=W2.T @ dZ2 * ( A1 * (1-A1) )\n",
    "    dW1=(1/len(y))* dZ1 @ X.T\n",
    "    db1=(1/len(y))* np.sum(dZ1,axis=1,keepdims=True)\n",
    "    \n",
    "    return dW1,dW2,db1,db2\n",
    "\n",
    "def logloss(A,y):\n",
    "    eps=1e-15\n",
    "    return - 1/len(y) * np.sum(y*np.log(A+eps)+(1-y)*np.log(1-A+eps))\n",
    "\n",
    "def update(W1,W2,b1,b2,dW1,dW2,db1,db2,alpha): #alpha : taux d'apprentissage\n",
    "    W2=W2-alpha*dW2\n",
    "    b2=b2-alpha*db2\n",
    "    \n",
    "    W1=W1-alpha*dW1\n",
    "    b1=b1-alpha*db1\n",
    "    \n",
    "    return W1,W2,b1,b2\n",
    "\n",
    "def predict(X,W1,b1,W2,b2):\n",
    "    Z1,A1,Z2,A2 = froward_propagation(X,W1,b1,W2,b2)\n",
    "    return A2 >= 0.5\n",
    "\n",
    "def neural_network(X_train,y_train,X_test,y_test,n1,alpha,n_iter):\n",
    "    \n",
    "    X_train=X_train.T\n",
    "    y_train=y_train.T\n",
    "    \n",
    "    X_test=X_test.T\n",
    "    y_test=y_test.T\n",
    "    \n",
    "    n0=X_train.shape[0]\n",
    "    n2=y_train.shape[0]\n",
    "    W1,b1,W2,b2 = initialisation(n0,n1,n2)\n",
    "    \n",
    "    erreur_train=[]\n",
    "    score_train=[] #sklearn.metrics\n",
    "    \n",
    "    erreur_test=[]\n",
    "    score_test=[]\n",
    "    \n",
    "    for i in tqdm(range(n_iter)):\n",
    "        \n",
    "        #train\n",
    "        Z1,A1,Z2,A2 = froward_propagation(X_train,W1,b1,W2,b2)\n",
    "        dW1,dW2,db1,db2 = back_propagation(A1,A2,W1,W2,X_train,y_train)\n",
    "        W1,W2,b1,b2 = update(W1,W2,b1,b2,dW1,dW2,db1,db2,alpha)\n",
    "\n",
    "        #visualiser l'apprentissage\n",
    "        erreur_train.append(logloss(A2.flatten(),y_train.flatten())) \n",
    "        y_pred = predict(X_train,W1,b1,W2,b2)\n",
    "        score_train.append(accuracy_score(y_train.flatten(),y_pred.flatten()))\n",
    "        \n",
    "        #test\n",
    "        Z1_test,A1_test,Z2_test,A2_test = froward_propagation(X_test,W1,b1,W2,b2)\n",
    "        erreur_test.append(logloss(A2_test.flatten(),y_test.flatten())) #visualiser l'apprentissage \n",
    "        y_pred_test=predict(X_test,W1,b1,W2,b2)\n",
    "        score_test.append(accuracy_score(y_test.flatten(),y_pred_test.flatten()))\n",
    "        \n",
    "\n",
    "    plt.figure(figsize=(12, 4))\n",
    "    plt.subplot(1, 2, 1)\n",
    "    plt.plot(erreur_test,label=\"erreur_test\")\n",
    "    plt.plot(erreur_train,label=\"erreur_train\")\n",
    "    plt.legend()\n",
    "    plt.subplot(1, 2, 2)\n",
    "    plt.plot(score_test,label=\"score_test\")\n",
    "    plt.plot(score_train,label=\"score_train\")\n",
    "    plt.legend()\n",
    "    plt.show()\n",
    "    return (W1,b1,W2,b2)"
   ]
  },
  {
   "cell_type": "code",
   "execution_count": 334,
   "id": "e029929b",
   "metadata": {},
   "outputs": [
    {
     "name": "stderr",
     "output_type": "stream",
     "text": [
      "100%|██████████| 2000/2000 [00:21<00:00, 92.01it/s]\n"
     ]
    },
    {
     "data": {
      "image/png": "[encoded data removed]",
      "text/plain": [
       "<Figure size 1200x400 with 2 Axes>"
      ]
     },
     "metadata": {},
     "output_type": "display_data"
    },
    {
     "data": {
      "text/plain": [
       "(array([[ 0.9335103 ,  2.90713211, -0.63004359, ...,  1.59167774,\n",
       "          1.55022609,  0.73436203],\n",
       "        [ 0.41282207, -0.26978818, -1.88222169, ...,  0.09840038,\n",
       "         -2.18930627,  0.63786252],\n",
       "        [-0.58034664, -1.58255859, -0.11612558, ...,  0.80943458,\n",
       "          0.74839405,  0.52149306],\n",
       "        ...,\n",
       "        [ 1.54573526, -0.92655832,  0.88787733, ..., -0.79282897,\n",
       "          1.13894871,  1.04179246],\n",
       "        [ 0.75576058, -0.68010599, -0.38255468, ..., -1.21762642,\n",
       "          1.83112908,  1.74791594],\n",
       "        [ 0.69842517, -1.10550516, -0.9641937 , ...,  1.90541691,\n",
       "         -0.08744549, -0.92149462]]),\n",
       " array([[-1.39478996],\n",
       "        [-0.18823491],\n",
       "        [-0.4096941 ],\n",
       "        [-1.26612826],\n",
       "        [ 2.08904765],\n",
       "        [-1.82732412],\n",
       "        [-0.16989298],\n",
       "        [ 0.3662202 ],\n",
       "        [-1.03085519],\n",
       "        [-0.61102839],\n",
       "        [-1.61051865],\n",
       "        [-0.84233423],\n",
       "        [ 0.85820301],\n",
       "        [-0.85466472],\n",
       "        [-0.78741803],\n",
       "        [-0.53653676],\n",
       "        [ 1.29344856],\n",
       "        [-0.47073745],\n",
       "        [ 1.84294232],\n",
       "        [-1.73141248],\n",
       "        [-0.18822922],\n",
       "        [-0.40304479],\n",
       "        [-0.79712482],\n",
       "        [ 0.25827957],\n",
       "        [-0.49607173],\n",
       "        [-3.9546492 ],\n",
       "        [-0.20976425],\n",
       "        [-0.32158009],\n",
       "        [ 1.25711848],\n",
       "        [-0.04022865],\n",
       "        [-0.4668656 ],\n",
       "        [-0.85250556],\n",
       "        [-0.91226875],\n",
       "        [ 0.95564494],\n",
       "        [ 2.20588104],\n",
       "        [ 0.14179915],\n",
       "        [-0.44216195],\n",
       "        [-1.12191217],\n",
       "        [ 1.10073965],\n",
       "        [ 0.42936641],\n",
       "        [ 1.39253762],\n",
       "        [ 0.68338723],\n",
       "        [-0.66152706],\n",
       "        [ 0.52484069],\n",
       "        [ 0.67252586],\n",
       "        [ 0.580159  ],\n",
       "        [-1.49752862],\n",
       "        [ 1.04921478],\n",
       "        [ 0.54840066],\n",
       "        [ 0.57861233],\n",
       "        [ 0.26286177],\n",
       "        [-0.22107429],\n",
       "        [ 1.53239544],\n",
       "        [ 0.12851258],\n",
       "        [ 0.06581741],\n",
       "        [ 1.07283306],\n",
       "        [ 0.03083347],\n",
       "        [-0.54591926],\n",
       "        [ 0.41963009],\n",
       "        [ 0.13304154],\n",
       "        [-0.1716884 ],\n",
       "        [-2.23105765],\n",
       "        [-0.50968613],\n",
       "        [ 0.87822192]]),\n",
       " array([[-1.48121421,  0.62145742, -0.26882746, -2.39943574,  1.11505196,\n",
       "         -0.25353654,  2.48667948,  2.0589088 , -2.72022584, -1.4502429 ,\n",
       "         -1.58857266,  1.72743694, -3.35731774,  2.48108801,  2.89661747,\n",
       "          2.50238531,  3.0938831 ,  1.13873127, -0.65652743, -1.50062265,\n",
       "         -1.50595146, -2.41811589, -1.90353808,  2.1967997 , -2.50790135,\n",
       "          2.10529527, -0.6033935 , -1.2992373 , -2.35659588, -1.97876269,\n",
       "          0.37900316, -1.09522192, -1.2303901 ,  2.00640052, -1.79370529,\n",
       "          1.43751974, -2.19300207, -1.37693617,  1.09010552, -1.14160056,\n",
       "         -1.12769633, -0.60655002,  0.88839018, -1.60802648, -1.15044306,\n",
       "         -0.37387679, -1.50895323, -0.40024918,  3.23058218,  2.098382  ,\n",
       "         -0.89591237,  1.13223267,  0.40614511, -1.49977974,  1.37108675,\n",
       "          1.25771838, -2.19173167, -2.39281715, -1.80553095, -1.79680687,\n",
       "          0.99357943, -1.28741946, -1.21722187,  1.56118622]]),\n",
       " array([[0.57735297]]))"
      ]
     },
     "execution_count": 334,
     "metadata": {},
     "output_type": "execute_result"
    }
   ],
   "source": [
    "neural_network(X_train,y_train,X_test,y_test,n1=64,alpha=0.0005,n_iter=2000)"
   ]
  }
 ],
 "metadata": {
  "kernelspec": {
   "display_name": "Python 3",
   "language": "python",
   "name": "python3"
  },
  "language_info": {
   "codemirror_mode": {
    "name": "ipython",
    "version": 3
   },
   "file_extension": ".py",
   "mimetype": "text/x-python",
   "name": "python",
   "nbconvert_exporter": "python",
   "pygments_lexer": "ipython3",
   "version": "3.9.6"
  }
 },
 "nbformat": 4,
 "nbformat_minor": 5
}
